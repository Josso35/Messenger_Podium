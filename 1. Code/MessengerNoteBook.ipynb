{
 "cells": [
  {
   "cell_type": "code",
   "execution_count": 8,
   "id": "anticipated-astronomy",
   "metadata": {},
   "outputs": [
    {
     "name": "stderr",
     "output_type": "stream",
     "text": [
      "[nltk_data] Downloading package stopwords to\n",
      "[nltk_data]     C:\\Users\\louis.josso\\AppData\\Roaming\\nltk_data...\n",
      "[nltk_data]   Unzipping corpora\\stopwords.zip.\n"
     ]
    },
    {
     "data": {
      "text/plain": [
       "True"
      ]
     },
     "execution_count": 8,
     "metadata": {},
     "output_type": "execute_result"
    }
   ],
   "source": [
    "import pandas as pd\n",
    "import json\n",
    "import numpy as np\n",
    "import fr_core_news_sm\n",
    "import nltk\n",
    "from nltk.stem.snowball import SnowballStemmer\n",
    "from tqdm.notebook import tqdm\n",
    "from nltk.corpus import stopwords\n",
    "\n",
    "from spacy.lang.fr.stop_words import STOP_WORDS as fr_stop\n",
    "\n",
    "#nltk.download()\n",
    "#nltk.download('stopwords')"
   ]
  },
  {
   "cell_type": "code",
   "execution_count": 162,
   "id": "pointed-encounter",
   "metadata": {},
   "outputs": [],
   "source": [
    "fd = \"../0. Data/\"\n",
    "\n",
    "\n",
    "def parse_obj(obj):\n",
    "    for key in obj:\n",
    "        if isinstance(obj[key], str):\n",
    "            obj[key] = obj[key].encode('latin_1').decode('utf-8')\n",
    "        elif isinstance(obj[key], list):\n",
    "            obj[key] = list(map(lambda x: x if type(x) != str else x.encode('latin_1').decode('utf-8'), obj[key]))\n",
    "        pass\n",
    "    return obj\n"
   ]
  },
  {
   "cell_type": "code",
   "execution_count": 163,
   "id": "super-luxembourg",
   "metadata": {},
   "outputs": [],
   "source": [
    "file = open(fd + 'message_1.json')\n",
    "data = json.load(file, object_hook=parse_obj)\n",
    "df = pd.json_normalize(data['messages'])\n",
    "for i in np.arange(2,6) : \n",
    "    file = open(fd + 'message_'+str(i)+'.json', encoding='utf8')\n",
    "    data = json.load(file)\n",
    "    df_temp = pd.json_normalize(data['messages'])\n",
    "    df=df.append(df_temp)\n",
    "    \n",
    "\n",
    "df['date_time']=pd.to_datetime(df['timestamp_ms'], unit='ms') \n",
    "df['content']=df['content'].str.lower()\n",
    "df.drop(columns=['timestamp_ms','gifs','is_unsent','photos','type','videos','audio_files','sticker.uri',\n",
    "                 'call_duration','share.link','share.share_text','users','files'],inplace=True)\n",
    "\n",
    "df['year']=df['date_time'].dt.year\n",
    "df=df[df['year']==2021]\n",
    "df=df[~df['sender_name'].isin(['ThoJean Delavega','Paul Foulonneau','Harry Hrr','Maximilien Waeters'])]"
   ]
  },
  {
   "cell_type": "code",
   "execution_count": 164,
   "id": "intermediate-addiction",
   "metadata": {},
   "outputs": [],
   "source": [
    "df=df[~df['content'].isna()].reset_index()\n"
   ]
  },
  {
   "cell_type": "code",
   "execution_count": 165,
   "id": "false-viewer",
   "metadata": {},
   "outputs": [
    {
     "data": {
      "text/plain": [
       "0"
      ]
     },
     "execution_count": 165,
     "metadata": {},
     "output_type": "execute_result"
    }
   ],
   "source": [
    "df['sender_name'].isin(['ThoJean Delavega','Paul Foulonneau','Harry Hrr','Maximilien Waeters']).sum()"
   ]
  },
  {
   "cell_type": "code",
   "execution_count": 166,
   "id": "forbidden-trash",
   "metadata": {},
   "outputs": [],
   "source": [
    "final_stopwords_list_1 = stopwords.words('english') + stopwords.words('french')\n",
    "#final_stopwords_list"
   ]
  },
  {
   "cell_type": "code",
   "execution_count": 167,
   "id": "imported-forty",
   "metadata": {},
   "outputs": [],
   "source": [
    "from spacy.lang.fr.stop_words import STOP_WORDS as fr_stop\n",
    "from spacy.lang.en.stop_words import STOP_WORDS as en_stop\n",
    "\n",
    "final_stopwords_list_2 = list(fr_stop) + list(en_stop)"
   ]
  },
  {
   "cell_type": "code",
   "execution_count": 168,
   "id": "tribal-decline",
   "metadata": {},
   "outputs": [],
   "source": [
    "nlp = fr_core_news_sm.load()\n",
    "\n",
    "#temmenized = pd.DataFrame(columns=['sender_name','stem'])\n",
    "#for i in tqdm(np.arange(df.shape[0]-1)) :\n",
    "#    doc = nlp(df['content'][i])\n",
    "#    for token in doc:\n",
    "#        dict = {'sender_name': df['sender_name'][i], 'stem':token.lemma_}\n",
    " #       temmenized=temmenized.append(dict, ignore_index = True)\n",
    "            "
   ]
  },
  {
   "cell_type": "code",
   "execution_count": 170,
   "id": "visible-foster",
   "metadata": {},
   "outputs": [],
   "source": [
    "df['parsed_content'] = df['content'].apply(lambda x: [y.lemma_ for y in  nlp(x)])\n"
   ]
  },
  {
   "cell_type": "code",
   "execution_count": 183,
   "id": "curious-alert",
   "metadata": {},
   "outputs": [],
   "source": [
    "temmenized=df.explode('parsed_content')[['sender_name','parsed_content']]\n",
    "temmenized['parsed_content']=temmenized['parsed_content'].str.normalize('NFKD').str.encode('ascii', errors='ignore').str.decode('utf-8')"
   ]
  },
  {
   "cell_type": "code",
   "execution_count": 219,
   "id": "accessible-playlist",
   "metadata": {},
   "outputs": [],
   "source": [
    "my_list=['©',',','?','.','!','ã',' ','\"','','ã§a','\\n','(','etre','avoir','cela','caest','faire']"
   ]
  },
  {
   "cell_type": "code",
   "execution_count": 220,
   "id": "elegant-deposit",
   "metadata": {},
   "outputs": [
    {
     "name": "stderr",
     "output_type": "stream",
     "text": [
      "c:\\users\\louis.josso\\appdata\\local\\programs\\python\\python39\\lib\\site-packages\\pandas\\core\\frame.py:3607: SettingWithCopyWarning: \n",
      "A value is trying to be set on a copy of a slice from a DataFrame.\n",
      "Try using .loc[row_indexer,col_indexer] = value instead\n",
      "\n",
      "See the caveats in the documentation: https://pandas.pydata.org/pandas-docs/stable/user_guide/indexing.html#returning-a-view-versus-a-copy\n",
      "  self._set_item(key, value)\n"
     ]
    }
   ],
   "source": [
    "temmenized_root=temmenized[~(temmenized['parsed_content'].isin(final_stopwords_list_1+my_list))]\n",
    "temmenized_root['nb_use']=1"
   ]
  },
  {
   "cell_type": "code",
   "execution_count": 221,
   "id": "lined-insulation",
   "metadata": {},
   "outputs": [],
   "source": [
    "#temmenized_root[temmenized_root['sender_name']=='Alex Dns'].value_counts().head(10)"
   ]
  },
  {
   "cell_type": "code",
   "execution_count": 222,
   "id": "reasonable-parish",
   "metadata": {},
   "outputs": [
    {
     "data": {
      "text/html": [
       "<div>\n",
       "<style scoped>\n",
       "    .dataframe tbody tr th:only-of-type {\n",
       "        vertical-align: middle;\n",
       "    }\n",
       "\n",
       "    .dataframe tbody tr th {\n",
       "        vertical-align: top;\n",
       "    }\n",
       "\n",
       "    .dataframe thead th {\n",
       "        text-align: right;\n",
       "    }\n",
       "</style>\n",
       "<table border=\"1\" class=\"dataframe\">\n",
       "  <thead>\n",
       "    <tr style=\"text-align: right;\">\n",
       "      <th></th>\n",
       "      <th>sender_name</th>\n",
       "      <th>parsed_content</th>\n",
       "      <th>nb_use</th>\n",
       "    </tr>\n",
       "  </thead>\n",
       "  <tbody>\n",
       "    <tr>\n",
       "      <th>606</th>\n",
       "      <td>Alex Dns</td>\n",
       "      <td>18h-18h30</td>\n",
       "      <td>1</td>\n",
       "    </tr>\n",
       "    <tr>\n",
       "      <th>14365</th>\n",
       "      <td>Thomas Liberge</td>\n",
       "      <td>montre</td>\n",
       "      <td>3</td>\n",
       "    </tr>\n",
       "    <tr>\n",
       "      <th>11187</th>\n",
       "      <td>Robin Goutard</td>\n",
       "      <td>gartner</td>\n",
       "      <td>1</td>\n",
       "    </tr>\n",
       "  </tbody>\n",
       "</table>\n",
       "</div>"
      ],
      "text/plain": [
       "          sender_name parsed_content  nb_use\n",
       "606          Alex Dns      18h-18h30       1\n",
       "14365  Thomas Liberge         montre       3\n",
       "11187   Robin Goutard        gartner       1"
      ]
     },
     "execution_count": 222,
     "metadata": {},
     "output_type": "execute_result"
    }
   ],
   "source": [
    "temmenized_agg = temmenized_root.groupby(['sender_name','parsed_content']).agg({'nb_use':'count'}).reset_index()\n",
    "temmenized_agg.sample(3)"
   ]
  },
  {
   "cell_type": "code",
   "execution_count": 223,
   "id": "arbitrary-turkey",
   "metadata": {},
   "outputs": [
    {
     "data": {
      "text/html": [
       "<div>\n",
       "<style scoped>\n",
       "    .dataframe tbody tr th:only-of-type {\n",
       "        vertical-align: middle;\n",
       "    }\n",
       "\n",
       "    .dataframe tbody tr th {\n",
       "        vertical-align: top;\n",
       "    }\n",
       "\n",
       "    .dataframe thead th {\n",
       "        text-align: right;\n",
       "    }\n",
       "</style>\n",
       "<table border=\"1\" class=\"dataframe\">\n",
       "  <thead>\n",
       "    <tr style=\"text-align: right;\">\n",
       "      <th></th>\n",
       "      <th>sender_name</th>\n",
       "      <th>parsed_content</th>\n",
       "      <th>nb_use</th>\n",
       "    </tr>\n",
       "  </thead>\n",
       "  <tbody>\n",
       "    <tr>\n",
       "      <th>0</th>\n",
       "      <td>Adrien Goutard</td>\n",
       "      <td>ouer</td>\n",
       "      <td>18</td>\n",
       "    </tr>\n",
       "    <tr>\n",
       "      <th>1</th>\n",
       "      <td>Adrien Goutard</td>\n",
       "      <td>non</td>\n",
       "      <td>16</td>\n",
       "    </tr>\n",
       "  </tbody>\n",
       "</table>\n",
       "</div>"
      ],
      "text/plain": [
       "      sender_name parsed_content  nb_use\n",
       "0  Adrien Goutard           ouer      18\n",
       "1  Adrien Goutard            non      16"
      ]
     },
     "execution_count": 223,
     "metadata": {},
     "output_type": "execute_result"
    }
   ],
   "source": [
    "temmenized_sorted = temmenized_agg.groupby(['sender_name']).apply(lambda x: x.sort_values(['nb_use'],ascending = False)).reset_index(drop = True)\n",
    "temmenized_sorted.head(2)"
   ]
  },
  {
   "cell_type": "code",
   "execution_count": 224,
   "id": "fewer-specific",
   "metadata": {},
   "outputs": [
    {
     "data": {
      "text/html": [
       "<div>\n",
       "<style scoped>\n",
       "    .dataframe tbody tr th:only-of-type {\n",
       "        vertical-align: middle;\n",
       "    }\n",
       "\n",
       "    .dataframe tbody tr th {\n",
       "        vertical-align: top;\n",
       "    }\n",
       "\n",
       "    .dataframe thead th {\n",
       "        text-align: right;\n",
       "    }\n",
       "</style>\n",
       "<table border=\"1\" class=\"dataframe\">\n",
       "  <thead>\n",
       "    <tr style=\"text-align: right;\">\n",
       "      <th></th>\n",
       "      <th>sender_name</th>\n",
       "      <th>parsed_content</th>\n",
       "      <th>nb_use</th>\n",
       "    </tr>\n",
       "  </thead>\n",
       "  <tbody>\n",
       "    <tr>\n",
       "      <th>0</th>\n",
       "      <td>Adrien Goutard</td>\n",
       "      <td>ouer</td>\n",
       "      <td>18</td>\n",
       "    </tr>\n",
       "    <tr>\n",
       "      <th>1</th>\n",
       "      <td>Adrien Goutard</td>\n",
       "      <td>non</td>\n",
       "      <td>16</td>\n",
       "    </tr>\n",
       "    <tr>\n",
       "      <th>574</th>\n",
       "      <td>Alex Dns</td>\n",
       "      <td>tout</td>\n",
       "      <td>109</td>\n",
       "    </tr>\n",
       "    <tr>\n",
       "      <th>575</th>\n",
       "      <td>Alex Dns</td>\n",
       "      <td>aller</td>\n",
       "      <td>99</td>\n",
       "    </tr>\n",
       "    <tr>\n",
       "      <th>3138</th>\n",
       "      <td>Alexandre Durand</td>\n",
       "      <td>bon</td>\n",
       "      <td>6</td>\n",
       "    </tr>\n",
       "    <tr>\n",
       "      <th>3139</th>\n",
       "      <td>Alexandre Durand</td>\n",
       "      <td>aller</td>\n",
       "      <td>5</td>\n",
       "    </tr>\n",
       "    <tr>\n",
       "      <th>3309</th>\n",
       "      <td>Antoine Gilles</td>\n",
       "      <td>;)</td>\n",
       "      <td>14</td>\n",
       "    </tr>\n",
       "    <tr>\n",
       "      <th>3310</th>\n",
       "      <td>Antoine Gilles</td>\n",
       "      <td>bru</td>\n",
       "      <td>8</td>\n",
       "    </tr>\n",
       "    <tr>\n",
       "      <th>3610</th>\n",
       "      <td>Antoine Hamon</td>\n",
       "      <td>;)</td>\n",
       "      <td>109</td>\n",
       "    </tr>\n",
       "    <tr>\n",
       "      <th>3611</th>\n",
       "      <td>Antoine Hamon</td>\n",
       "      <td>aller</td>\n",
       "      <td>104</td>\n",
       "    </tr>\n",
       "    <tr>\n",
       "      <th>5577</th>\n",
       "      <td>Arthur de Saint-Pierre</td>\n",
       "      <td>^^</td>\n",
       "      <td>80</td>\n",
       "    </tr>\n",
       "    <tr>\n",
       "      <th>5578</th>\n",
       "      <td>Arthur de Saint-Pierre</td>\n",
       "      <td>;)</td>\n",
       "      <td>59</td>\n",
       "    </tr>\n",
       "    <tr>\n",
       "      <th>6673</th>\n",
       "      <td>Louis Jss</td>\n",
       "      <td>haha</td>\n",
       "      <td>241</td>\n",
       "    </tr>\n",
       "    <tr>\n",
       "      <th>6674</th>\n",
       "      <td>Louis Jss</td>\n",
       "      <td>aller</td>\n",
       "      <td>118</td>\n",
       "    </tr>\n",
       "    <tr>\n",
       "      <th>9540</th>\n",
       "      <td>Robin Goutard</td>\n",
       "      <td>ahah</td>\n",
       "      <td>213</td>\n",
       "    </tr>\n",
       "    <tr>\n",
       "      <th>9541</th>\n",
       "      <td>Robin Goutard</td>\n",
       "      <td>aller</td>\n",
       "      <td>142</td>\n",
       "    </tr>\n",
       "    <tr>\n",
       "      <th>13273</th>\n",
       "      <td>Thomas Liberge</td>\n",
       "      <td>aller</td>\n",
       "      <td>89</td>\n",
       "    </tr>\n",
       "    <tr>\n",
       "      <th>13274</th>\n",
       "      <td>Thomas Liberge</td>\n",
       "      <td>putain</td>\n",
       "      <td>45</td>\n",
       "    </tr>\n",
       "  </tbody>\n",
       "</table>\n",
       "</div>"
      ],
      "text/plain": [
       "                  sender_name parsed_content  nb_use\n",
       "0              Adrien Goutard           ouer      18\n",
       "1              Adrien Goutard            non      16\n",
       "574                  Alex Dns           tout     109\n",
       "575                  Alex Dns          aller      99\n",
       "3138         Alexandre Durand            bon       6\n",
       "3139         Alexandre Durand          aller       5\n",
       "3309           Antoine Gilles             ;)      14\n",
       "3310           Antoine Gilles            bru       8\n",
       "3610            Antoine Hamon             ;)     109\n",
       "3611            Antoine Hamon          aller     104\n",
       "5577   Arthur de Saint-Pierre             ^^      80\n",
       "5578   Arthur de Saint-Pierre             ;)      59\n",
       "6673                Louis Jss           haha     241\n",
       "6674                Louis Jss          aller     118\n",
       "9540            Robin Goutard           ahah     213\n",
       "9541            Robin Goutard          aller     142\n",
       "13273          Thomas Liberge          aller      89\n",
       "13274          Thomas Liberge         putain      45"
      ]
     },
     "execution_count": 224,
     "metadata": {},
     "output_type": "execute_result"
    }
   ],
   "source": [
    "temmenized_sorted.groupby(['sender_name']).head(2)"
   ]
  },
  {
   "cell_type": "code",
   "execution_count": 243,
   "id": "legitimate-latitude",
   "metadata": {},
   "outputs": [
    {
     "data": {
      "text/plain": [
       "sender_name             parsed_content  nb_use\n",
       "Adrien Goutard          barbe           3         1\n",
       "Alex Dns                barbe           1         1\n",
       "Antoine Hamon           barbe           2         1\n",
       "Arthur de Saint-Pierre  barbe           1         1\n",
       "Louis Jss               barbe           1         1\n",
       "Robin Goutard           barbe           2         1\n",
       "dtype: int64"
      ]
     },
     "execution_count": 243,
     "metadata": {},
     "output_type": "execute_result"
    }
   ],
   "source": [
    "word='barbe'\n",
    "lem_temp=temmenized_sorted[temmenized_sorted['parsed_content']==word]\n",
    "lem_temp.value_counts()"
   ]
  },
  {
   "cell_type": "code",
   "execution_count": 248,
   "id": "exempt-sheet",
   "metadata": {},
   "outputs": [
    {
     "data": {
      "text/plain": [
       "Robin Goutard             23688\n",
       "Louis Jss                 20242\n",
       "Alex Dns                  14638\n",
       "Antoine Hamon             11307\n",
       "Thomas Liberge             9424\n",
       "Arthur de Saint-Pierre     6074\n",
       "Adrien Goutard             1902\n",
       "Antoine Gilles              953\n",
       "Alexandre Durand            465\n",
       "Name: sender_name, dtype: int64"
      ]
     },
     "execution_count": 248,
     "metadata": {},
     "output_type": "execute_result"
    }
   ],
   "source": [
    "temmenized['sender_name'].value_counts()"
   ]
  },
  {
   "cell_type": "code",
   "execution_count": 247,
   "id": "metric-environment",
   "metadata": {},
   "outputs": [
    {
     "data": {
      "text/plain": [
       "le          4078\n",
       "de          3413\n",
       "etre        2983\n",
       "je          2411\n",
       "avoir       2240\n",
       "            ... \n",
       "penche         1\n",
       "galice         1\n",
       "buf            1\n",
       "amaren         1\n",
       "toilette       1\n",
       "Name: parsed_content, Length: 8121, dtype: int64"
      ]
     },
     "execution_count": 247,
     "metadata": {},
     "output_type": "execute_result"
    }
   ],
   "source": [
    "temmenized['parsed_content'].value_counts()"
   ]
  },
  {
   "cell_type": "code",
   "execution_count": null,
   "id": "limiting-transformation",
   "metadata": {},
   "outputs": [],
   "source": []
  }
 ],
 "metadata": {
  "kernelspec": {
   "display_name": "Python 3",
   "language": "python",
   "name": "python3"
  },
  "language_info": {
   "codemirror_mode": {
    "name": "ipython",
    "version": 3
   },
   "file_extension": ".py",
   "mimetype": "text/x-python",
   "name": "python",
   "nbconvert_exporter": "python",
   "pygments_lexer": "ipython3",
   "version": "3.9.2"
  }
 },
 "nbformat": 4,
 "nbformat_minor": 5
}
